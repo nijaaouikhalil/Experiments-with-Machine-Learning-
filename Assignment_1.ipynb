{
 "cells": [
  {
   "cell_type": "markdown",
   "metadata": {},
   "source": [
    "# Assignment 1: Experiments with Machine Learning\n",
    "---\n",
    "## Objective\n",
    "* Assignment 1 explores the use of SciKit Learn libraries in python to perform sentiment analysis on a given text string dataset\n",
    "    * The dataset used provides us with amazon reviews and whether the sentiment of the text is **Positive/Negative**\n",
    "* The following Machine Learning models were used:\n",
    "    * **Naive-Bayes classifier**\n",
    "    * **Decision Tree classifier**\n",
    "---\n",
    "## How to Run\n",
    "1. Download all files contained in package\n",
    "2. Open **Anaconda** and run **Jupyter Notebook**\n",
    "3. Navigate to directory containing the assignment files\n",
    "4. Open ```Assignment_1.ipynb```\n",
    "5. Select the following options from the toolbar\n",
    "> Cell   \\> Run All\n",
    "\n",
    "---\n",
    "## Troubleshooting Issues\n",
    "* The most likely issue is a missing library\n",
    "\n",
    "### NLTK not Found\n",
    "* The **NLTK** Library does *not* come installed with Anaconda\n",
    "* Visit the [NLTK Installation Page](https://www.nltk.org/install.html)\n",
    "* What is NLTK?\n",
    "    * NLTK is a **N**atural **L**anguage **P**rocessing **T**oolkit\n",
    "    * NLTK has functions to help us clean our text and remove unnecessary words/punctuation"
   ]
  },
  {
   "cell_type": "code",
   "execution_count": null,
   "metadata": {},
   "outputs": [],
   "source": []
  },
  {
   "cell_type": "markdown",
   "metadata": {},
   "source": [
    "---\n",
    "\n",
    "# I: Importing Necessary Modules\n",
    "* We start by first importing the necessary modules and setting global parameters"
   ]
  },
  {
   "cell_type": "code",
   "execution_count": 2,
   "metadata": {},
   "outputs": [
    {
     "ename": "SyntaxError",
     "evalue": "from __future__ imports must occur at the beginning of the file (<ipython-input-2-14703c000592>, line 15)",
     "output_type": "error",
     "traceback": [
      "\u001b[1;36m  File \u001b[1;32m\"<ipython-input-2-14703c000592>\"\u001b[1;36m, line \u001b[1;32m15\u001b[0m\n\u001b[1;33m    from sklearn.model_selection import GridSearchCV,train_test_split\u001b[0m\n\u001b[1;37m           ^\u001b[0m\n\u001b[1;31mSyntaxError\u001b[0m\u001b[1;31m:\u001b[0m from __future__ imports must occur at the beginning of the file\n"
     ]
    }
   ],
   "source": [
    "# Define imports and global variables\n",
    "\n",
    "import re\n",
    "import numpy as np\n",
    "import nltk\n",
    "import matplotlib.pyplot as plt\n",
    "import matplotlib.patches as mpatches\n",
    "import pandas as pd\n",
    "import string\n",
    "import os\n",
    "import shutil\n",
    "from __future__ import division\n",
    "from codecs import open\n",
    "from collections import Counter\n",
    "from sklearn.model_selection import GridSearchCV,train_test_split\n",
    "from sklearn.feature_extraction.text import TfidfVectorizer\n",
    "from sklearn.pipeline import Pipeline\n",
    "from sklearn.naive_bayes import MultinomialNB\n",
    "from sklearn.tree import DecisionTreeClassifier\n",
    "from sklearn.metrics import classification_report, accuracy_score\n",
    "from sklearn.metrics import plot_confusion_matrix\n",
    "from nltk.corpus import stopwords\n",
    "from nltk.stem.porter import PorterStemmer\n",
    "\n",
    "dataset_filename = \"all_sentiment_shuffled\"\n",
    "dataset_paths = {}"
   ]
  },
  {
   "cell_type": "markdown",
   "metadata": {},
   "source": [
    "---\n",
    "\n",
    "\n",
    "# II: Function Definitions\n",
    "* Defining various functions to be used throughout the notebook"
   ]
  },
  {
   "cell_type": "code",
   "execution_count": 2,
   "metadata": {},
   "outputs": [],
   "source": [
    "# Define utils functions.\n",
    "\n",
    "# Read raw data file, splits into labels and documents.\n",
    "\n",
    "def read_documents(doc_file):\n",
    "    docs = []\n",
    "    labels = []\n",
    "    with open(doc_file, encoding='utf-8') as f:\n",
    "        for line in f:\n",
    "            words = line.strip().split()\n",
    "            docs.append(words[3:])\n",
    "            labels.append(words[1])\n",
    "    return docs, labels\n",
    "\n",
    "# Calculates the prior probability of an array using Counter.\n",
    "\n",
    "def compute_prior_probabilities(labels):\n",
    "    result = {}\n",
    "    labels_distribution = Counter(labels)\n",
    "    for label, count in labels_distribution.items():\n",
    "        prior = labels_distribution[label] / len(labels)\n",
    "        result[label] = round(prior, 3)\n",
    "    return result\n",
    "\n",
    "def print_accuracy_report(model,report,accuracy,df):\n",
    "    path = dataset_paths.get(model)\n",
    "    os.chdir(path)\n",
    "    with open(model+\"-AccuracyReport.txt\",\"w+\") as file:\n",
    "        file.write(\"|-----------------------\"+model+\" Accuracy report\"+\"-----------------------|\")\n",
    "        file.write(\"\\n\\n(c) Precision, Recall, and F1-Measure for each class given by: \\n\")\n",
    "        file.write(report)\n",
    "        file.write(\"\\n(d) Overall Model Accuracy: \\t\"+str(accuracy))\n",
    "        file.write(\"\\n\\n\\n|----------------\"+model+\" Row Number and Predicted Class\"+\"----------------|\")\n",
    "        file.write(\"\\n\\n(a) Row number of each instance and the index of its predicted class:\\n\\n\")\n",
    "        for index, row in df.iterrows():\n",
    "            file.write(str(index)+\",\"+row[0]+\"\\n\")\n",
    "    os.chdir(\"..\")\n",
    "\n",
    "def generate_output_files():\n",
    "    models = [\"NaiveBayes\",\"BaseDT\",\"BestDT\"]\n",
    "    for model in models:\n",
    "        path = model + \"-\" +dataset_filename\n",
    "        dataset_paths.update({model:path})\n",
    "        if os.path.exists(path):\n",
    "            shutil.rmtree(path)\n",
    "        os.makedirs(path)"
   ]
  },
  {
   "cell_type": "markdown",
   "metadata": {},
   "source": [
    "---\n",
    "# III: Loading the Dataset, Data Pre-Processing, and Data Visualization\n",
    "* Before running a model, we must first:\n",
    "    * **Load the dataset** into our program\n",
    "    * **Pre-Process** and clean the text in the dataset\n",
    "    * **Visualize our data** using plots and examining prior probabilities"
   ]
  },
  {
   "cell_type": "code",
   "execution_count": 3,
   "metadata": {},
   "outputs": [
    {
     "name": "stdout",
     "output_type": "stream",
     "text": [
      "Examining the Raw Data: \n",
      "\n",
      "[['i', 'bought', 'this', 'album', 'because', 'i', 'loved', 'the', 'title', 'song', '.', 'it', \"'s\", 'such', 'a', 'great', 'song', ',', 'how', 'bad', 'can', 'the', 'rest', 'of', 'the', 'album', 'be', ',', 'right', '?', 'well', ',', 'the', 'rest', 'of', 'the', 'songs', 'are', 'just', 'filler', 'and', 'are', \"n't\", 'worth', 'the', 'money', 'i', 'paid', 'for', 'this', '.', 'it', \"'s\", 'either', 'shameless', 'bubblegum', 'or', 'oversentimentalized', 'depressing', 'tripe', '.', 'kenny', 'chesney', 'is', 'a', 'popular', 'artist', 'and', 'as', 'a', 'result', 'he', 'is', 'in', 'the', 'cookie', 'cutter', 'category', 'of', 'the', 'nashville', 'music', 'scene', '.', 'he', \"'s\", 'gotta', 'pump', 'out', 'the', 'albums', 'so', 'the', 'record', 'company', 'can', 'keep', 'lining', 'their', 'pockets', 'while', 'the', 'suckers', 'out', 'there', 'keep', 'buying', 'this', 'garbage', 'to', 'perpetuate', 'more', 'garbage', 'coming', 'out', 'of', 'that', 'town', '.', 'i', \"'ll\", 'get', 'down', 'off', 'my', 'soapbox', 'now', '.', 'but', 'country', 'music', 'really', 'needs', 'to', 'get', 'back', 'to', 'it', \"'s\", 'roots', 'and', 'stop', 'this', 'pop', 'nonsense', '.', 'what', 'country', 'music', 'really', 'is', 'and', 'what', 'it', 'is', 'considered', 'to', 'be', 'by', 'mainstream', 'are', 'two', 'different', 'things', '.'], ['i', 'was', 'misled', 'and', 'thought', 'i', 'was', 'buying', 'the', 'entire', 'cd', 'and', 'it', 'contains', 'one', 'song'], ['i', 'have', 'introduced', 'many', 'of', 'my', 'ell', ',', 'high', 'school', 'students', 'to', 'lois', 'lowery', 'and', 'the', 'depth', 'of', 'her', 'characters', '.', 'she', 'is', 'a', 'brilliant', 'writer', 'and', 'capable', 'of', 'inspiring', 'fierce', 'passion', 'in', 'her', 'readers', 'as', 'they', 'encounter', 'shocking', 'details', 'of', 'her', 'utopian', 'worlds', '.', 'i', 'was', 'anxious', 'to', 'read', 'this', 'companion', 'novel', 'and', 'had', 'planned', 'to', 'share', 'it', 'with', 'my', 'class', 'this', 'january', '.', 'although', 'the', 'series', 'is', 'written', 'for', '6th', 'graders', 'and', 'older', ',', 'this', 'book', \"'s\", 'simplicity', ',', 'in', 'its', 'message', ',', 'language', 'and', 'writing', 'style', 'will', 'inspire', 'no', 'one', '.', 'i', 'am', 'sadly', 'disappointed'], ['anything', 'you', 'purchase', 'in', 'the', 'left', 'behind', 'series', 'is', 'an', 'excellent', 'read', '.', 'these', 'books', 'are', 'great', 'and', 'very', 'close', 'to', 'the', 'bible', '.', 'i', 'have', 'the', 'entire', 'set', '.', 'amazon', 'is', 'a', 'great', 'shopping', 'site', 'and', 'they', 'ship', 'fast', '.', 'i', 'would', 'recommend', 'these', 'to', 'any', 'christian', 'wanting', 'to', 'know', 'about', 'what', 'to', 'expect', 'during', 'the', 'return', 'of', 'christ', '!', 'they', 'are', 'fiction', 'but', 'still', 'makes', 'a', 'good', 'point'], ['i', 'loved', 'these', 'movies', ',', 'and', 'i', 'cant', 'wiat', 'for', 'the', 'third', 'one', '!', 'very', 'funny', ',', 'not', 'suitable', 'for', 'chilren']]\n"
     ]
    }
   ],
   "source": [
    "# TASK 0\n",
    "# Read raw content file and split into documents and labels.\n",
    "\n",
    "all_docs, all_labels = read_documents(dataset_filename+\".txt\")\n",
    "generate_output_files()\n",
    "print(\"Examining the Raw Data: \\n\")\n",
    "print(all_docs[:5])\n",
    "\n",
    "# Cleaning words from dataset - Removing stopwords, punctuation, whitespaces, etc.\n",
    "\n",
    "stop_words = set(stopwords.words(\"english\"))\n",
    "punctuation_table = str.maketrans(\"\",\"\",string.punctuation)\n",
    "\n",
    "for i in range(len(all_docs)):\n",
    "    all_docs[i] = [word.lower() for word in all_docs[i]]\n",
    "    all_docs[i] = [word.translate(punctuation_table) for word in all_docs[i]]\n",
    "    all_docs[i] = [word.replace(\" \",\"\") for word in all_docs[i]]\n",
    "    all_docs[i] = [word for word in all_docs[i] if word != '']\n",
    "    all_docs[i] = [word for word in all_docs[i] if not word in stop_words]\n",
    "    all_docs[i] = [word for word in all_docs[i] if not word.isdigit()]"
   ]
  },
  {
   "cell_type": "code",
   "execution_count": 4,
   "metadata": {},
   "outputs": [
    {
     "name": "stdout",
     "output_type": "stream",
     "text": [
      "First 5 dataset entries: \n",
      "\n",
      "[['bought', 'album', 'loved', 'title', 'song', 'great', 'song', 'bad', 'rest', 'album', 'right', 'well', 'rest', 'songs', 'filler', 'nt', 'worth', 'money', 'paid', 'either', 'shameless', 'bubblegum', 'oversentimentalized', 'depressing', 'tripe', 'kenny', 'chesney', 'popular', 'artist', 'result', 'cookie', 'cutter', 'category', 'nashville', 'music', 'scene', 'gotta', 'pump', 'albums', 'record', 'company', 'keep', 'lining', 'pockets', 'suckers', 'keep', 'buying', 'garbage', 'perpetuate', 'garbage', 'coming', 'town', 'get', 'soapbox', 'country', 'music', 'really', 'needs', 'get', 'back', 'roots', 'stop', 'pop', 'nonsense', 'country', 'music', 'really', 'considered', 'mainstream', 'two', 'different', 'things'], ['misled', 'thought', 'buying', 'entire', 'cd', 'contains', 'one', 'song'], ['introduced', 'many', 'ell', 'high', 'school', 'students', 'lois', 'lowery', 'depth', 'characters', 'brilliant', 'writer', 'capable', 'inspiring', 'fierce', 'passion', 'readers', 'encounter', 'shocking', 'details', 'utopian', 'worlds', 'anxious', 'read', 'companion', 'novel', 'planned', 'share', 'class', 'january', 'although', 'series', 'written', '6th', 'graders', 'older', 'book', 'simplicity', 'message', 'language', 'writing', 'style', 'inspire', 'one', 'sadly', 'disappointed'], ['anything', 'purchase', 'left', 'behind', 'series', 'excellent', 'read', 'books', 'great', 'close', 'bible', 'entire', 'set', 'amazon', 'great', 'shopping', 'site', 'ship', 'fast', 'would', 'recommend', 'christian', 'wanting', 'know', 'expect', 'return', 'christ', 'fiction', 'still', 'makes', 'good', 'point'], ['loved', 'movies', 'cant', 'wiat', 'third', 'one', 'funny', 'suitable', 'chilren']]\n",
      "\n",
      "\n",
      "First 5 label entries: \n",
      "\n",
      "neg\n",
      "neg\n",
      "neg\n",
      "pos\n",
      "pos\n"
     ]
    }
   ],
   "source": [
    "# Split documents and labels into training (80%) and evaluation sets (20%).\n",
    "\n",
    "train_docs, eval_docs, train_labels, eval_labels = train_test_split(all_docs, all_labels, test_size = 0.20, random_state = 12)\n",
    "\n",
    "# Taking a look at some data samples to see what we have \n",
    "print(\"First 5 dataset entries: \\n\") \n",
    "print(all_docs[:5])\n",
    "\n",
    "print(\"\\n\\nFirst 5 label entries: \\n\")\n",
    "print(\"\\n\".join(all_labels[:5]))"
   ]
  },
  {
   "cell_type": "code",
   "execution_count": 5,
   "metadata": {},
   "outputs": [
    {
     "data": {
      "image/png": "[encoded data removed]",
      "text/plain": [
       "<Figure size 576x720 with 1 Axes>"
      ]
     },
     "metadata": {
      "needs_background": "light"
     },
     "output_type": "display_data"
    },
    {
     "data": {
      "text/html": [
       "<div>\n",
       "<style scoped>\n",
       "    .dataframe tbody tr th:only-of-type {\n",
       "        vertical-align: middle;\n",
       "    }\n",
       "\n",
       "    .dataframe tbody tr th {\n",
       "        vertical-align: top;\n",
       "    }\n",
       "\n",
       "    .dataframe thead th {\n",
       "        text-align: right;\n",
       "    }\n",
       "</style>\n",
       "<table border=\"1\" class=\"dataframe\">\n",
       "  <thead>\n",
       "    <tr style=\"text-align: right;\">\n",
       "      <th></th>\n",
       "      <th>Class</th>\n",
       "      <th>Number of instances</th>\n",
       "    </tr>\n",
       "  </thead>\n",
       "  <tbody>\n",
       "    <tr>\n",
       "      <th>0</th>\n",
       "      <td>neg</td>\n",
       "      <td>5914</td>\n",
       "    </tr>\n",
       "    <tr>\n",
       "      <th>1</th>\n",
       "      <td>pos</td>\n",
       "      <td>6000</td>\n",
       "    </tr>\n",
       "  </tbody>\n",
       "</table>\n",
       "</div>"
      ],
      "text/plain": [
       "  Class  Number of instances\n",
       "0   neg                 5914\n",
       "1   pos                 6000"
      ]
     },
     "execution_count": 5,
     "metadata": {},
     "output_type": "execute_result"
    }
   ],
   "source": [
    "# TASK 1\n",
    "# Plot the distribution of the number of the instances in each class.\n",
    "\n",
    "\n",
    "# Bar Chart\n",
    "\n",
    "# counting all postive/negative instances\n",
    "pos_count = 0\n",
    "neg_count = 0\n",
    "\n",
    "posneg_count = Counter(all_labels)\n",
    "\n",
    "pos_count = posneg_count[\"pos\"]\n",
    "neg_count = posneg_count[\"neg\"]\n",
    "\n",
    "# Chart parameters (colors, titles, data)\n",
    "label = (\"Positive\",\"Negative\")\n",
    "label_counts = [pos_count,neg_count]\n",
    "colors = [\"green\",\"red\"]\n",
    "y_pos = np.arange(len(label_counts))\n",
    "\n",
    "# Legend for bar chart\n",
    "green_patch = mpatches.Patch(color=\"green\",label=str(pos_count)+\" Positive Sentiments\")\n",
    "red_patch = mpatches.Patch(color=\"red\",label=str(neg_count)+\" Negative Sentiments\")\n",
    "\n",
    "# Bar chart formatting and plotting\n",
    "plt.rcParams[\"figure.figsize\"] = (8,10)\n",
    "plt.bar(y_pos, label_counts, color=colors, edgecolor=\"black\")\n",
    "plt.xticks(y_pos, label)\n",
    "    \n",
    "SMALL_SIZE = 16\n",
    "MEDIUM_SIZE = 20\n",
    "BIGGER_SIZE = 24\n",
    "\n",
    "plt.rc('font', size=SMALL_SIZE)          # controls default text sizes\n",
    "plt.rc('axes', titlesize=SMALL_SIZE)     # fontsize of the axes title\n",
    "plt.rc('axes', labelsize=SMALL_SIZE)    # fontsize of the x and y labels\n",
    "plt.rc('xtick', labelsize=SMALL_SIZE)    # fontsize of the tick labels\n",
    "plt.rc('ytick', labelsize=SMALL_SIZE)    # fontsize of the tick labels\n",
    "plt.rc('legend', fontsize=SMALL_SIZE)    # legend fontsize\n",
    "plt.rc('figure', titlesize=BIGGER_SIZE)  # fontsize of the figure title\n",
    "\n",
    "plt.xlabel(\"Text Sentiment Polarity\")\n",
    "plt.ylabel(\"Strings of Text\")\n",
    "plt.title(\"Sentiment Polarity Distribution\")\n",
    "plt.legend(handles=[green_patch,red_patch],bbox_to_anchor=(1.05, 1), loc='upper left')\n",
    "plt.show()\n",
    "\n",
    "\n",
    "# Table\n",
    "\n",
    "table = pd.DataFrame(posneg_count.items(), columns=[\"Class\", \"Number of instances\"]) \n",
    "table"
   ]
  },
  {
   "cell_type": "code",
   "execution_count": 6,
   "metadata": {
    "scrolled": true
   },
   "outputs": [
    {
     "data": {
      "image/png": "[encoded data removed]",
      "text/plain": [
       "<Figure size 576x720 with 1 Axes>"
      ]
     },
     "metadata": {},
     "output_type": "display_data"
    },
    {
     "data": {
      "text/html": [
       "<div>\n",
       "<style scoped>\n",
       "    .dataframe tbody tr th:only-of-type {\n",
       "        vertical-align: middle;\n",
       "    }\n",
       "\n",
       "    .dataframe tbody tr th {\n",
       "        vertical-align: top;\n",
       "    }\n",
       "\n",
       "    .dataframe thead th {\n",
       "        text-align: right;\n",
       "    }\n",
       "</style>\n",
       "<table border=\"1\" class=\"dataframe\">\n",
       "  <thead>\n",
       "    <tr style=\"text-align: right;\">\n",
       "      <th></th>\n",
       "      <th>Class</th>\n",
       "      <th>Prior Probability</th>\n",
       "    </tr>\n",
       "  </thead>\n",
       "  <tbody>\n",
       "    <tr>\n",
       "      <th>0</th>\n",
       "      <td>neg</td>\n",
       "      <td>0.496</td>\n",
       "    </tr>\n",
       "    <tr>\n",
       "      <th>1</th>\n",
       "      <td>pos</td>\n",
       "      <td>0.504</td>\n",
       "    </tr>\n",
       "  </tbody>\n",
       "</table>\n",
       "</div>"
      ],
      "text/plain": [
       "  Class  Prior Probability\n",
       "0   neg              0.496\n",
       "1   pos              0.504"
      ]
     },
     "execution_count": 6,
     "metadata": {},
     "output_type": "execute_result"
    }
   ],
   "source": [
    "# TASK 1\n",
    "# Calculate the prior probability of the labels (will not be directly used, just for explanation).\n",
    "\n",
    "prior_probability = compute_prior_probabilities(all_labels)\n",
    "\n",
    "# Plot prior probability in pie chat.\n",
    "\n",
    "plt.pie(prior_probability.values(), labels=prior_probability.keys(),explode = (0.05,0), autopct='%1.1f%%')\n",
    "plt.title(\"Prior Probability Distribution\")\n",
    "plt.show()\n",
    "\n",
    "# Plot prior probability in table.\n",
    "\n",
    "table = pd.DataFrame(prior_probability.items(), columns=[\"Class\", \"Prior Probability\"]) \n",
    "table"
   ]
  },
  {
   "cell_type": "markdown",
   "metadata": {},
   "source": [
    "---\n",
    "# IV: Applying ML Models to our Dataset\n",
    "* Our data is now properly prepared and ready to be subjected to a model\n",
    "* The process used to apply the model and test the output is as follows:\n",
    "    1. **Vectorize** the data\n",
    "    2. **Fit the vectorized data** to a model Pipeline\n",
    "    3. **Test** the model using our evaluation data\n",
    "    4. **Sanity check** to make sure our results make sense\n",
    "    \n",
    "    \n",
    "* We will examine various properties of the model, including:\n",
    "    * **Accuracy**\n",
    "    * **The Confusion Matrix**\n",
    "    * **Precision**\n",
    "    * **Recall**\n",
    "    * **F1 Precision**\n",
    "* The same process will be repeated for each model\n",
    "---\n",
    "# IV (a): Naive-Bayes Classifier"
   ]
  },
  {
   "cell_type": "code",
   "execution_count": 7,
   "metadata": {
    "scrolled": true
   },
   "outputs": [],
   "source": [
    "# Preparing dataset for vectorization (i.e. joining words by whitespace into one sentence)\n",
    "\n",
    "train_docs = [\" \".join(x) for x in train_docs]\n",
    "eval_docs = [\" \".join(x) for x in eval_docs]"
   ]
  },
  {
   "cell_type": "code",
   "execution_count": 8,
   "metadata": {
    "scrolled": true
   },
   "outputs": [
    {
     "data": {
      "text/html": [
       "<div>\n",
       "<style scoped>\n",
       "    .dataframe tbody tr th:only-of-type {\n",
       "        vertical-align: middle;\n",
       "    }\n",
       "\n",
       "    .dataframe tbody tr th {\n",
       "        vertical-align: top;\n",
       "    }\n",
       "\n",
       "    .dataframe thead th {\n",
       "        text-align: right;\n",
       "    }\n",
       "</style>\n",
       "<table border=\"1\" class=\"dataframe\">\n",
       "  <thead>\n",
       "    <tr style=\"text-align: right;\">\n",
       "      <th></th>\n",
       "      <th>Word</th>\n",
       "      <th>Vector</th>\n",
       "    </tr>\n",
       "  </thead>\n",
       "  <tbody>\n",
       "    <tr>\n",
       "      <th>0</th>\n",
       "      <td>around</td>\n",
       "      <td>2836</td>\n",
       "    </tr>\n",
       "    <tr>\n",
       "      <th>1</th>\n",
       "      <td>awesome</td>\n",
       "      <td>3522</td>\n",
       "    </tr>\n",
       "    <tr>\n",
       "      <th>2</th>\n",
       "      <td>product</td>\n",
       "      <td>32153</td>\n",
       "    </tr>\n",
       "    <tr>\n",
       "      <th>3</th>\n",
       "      <td>great</td>\n",
       "      <td>18050</td>\n",
       "    </tr>\n",
       "    <tr>\n",
       "      <th>4</th>\n",
       "      <td>experiences</td>\n",
       "      <td>14692</td>\n",
       "    </tr>\n",
       "    <tr>\n",
       "      <th>...</th>\n",
       "      <td>...</td>\n",
       "      <td>...</td>\n",
       "    </tr>\n",
       "    <tr>\n",
       "      <th>46525</th>\n",
       "      <td>yorequot</td>\n",
       "      <td>46286</td>\n",
       "    </tr>\n",
       "    <tr>\n",
       "      <th>46526</th>\n",
       "      <td>morbidly</td>\n",
       "      <td>26722</td>\n",
       "    </tr>\n",
       "    <tr>\n",
       "      <th>46527</th>\n",
       "      <td>taupin</td>\n",
       "      <td>40884</td>\n",
       "    </tr>\n",
       "    <tr>\n",
       "      <th>46528</th>\n",
       "      <td>kindred</td>\n",
       "      <td>22719</td>\n",
       "    </tr>\n",
       "    <tr>\n",
       "      <th>46529</th>\n",
       "      <td>selfeffacing</td>\n",
       "      <td>36549</td>\n",
       "    </tr>\n",
       "  </tbody>\n",
       "</table>\n",
       "<p>46530 rows × 2 columns</p>\n",
       "</div>"
      ],
      "text/plain": [
       "               Word  Vector\n",
       "0            around    2836\n",
       "1           awesome    3522\n",
       "2           product   32153\n",
       "3             great   18050\n",
       "4       experiences   14692\n",
       "...             ...     ...\n",
       "46525      yorequot   46286\n",
       "46526      morbidly   26722\n",
       "46527        taupin   40884\n",
       "46528       kindred   22719\n",
       "46529  selfeffacing   36549\n",
       "\n",
       "[46530 rows x 2 columns]"
      ]
     },
     "execution_count": 8,
     "metadata": {},
     "output_type": "execute_result"
    }
   ],
   "source": [
    "# TASK 3a - NB\n",
    "# Vectorize training documents (will not be directly used, just for explanation).\n",
    "# Using pipeline instead.\n",
    "\n",
    "vectorizer = TfidfVectorizer()\n",
    "vectorized_docs = vectorizer.fit_transform(train_docs)\n",
    "\n",
    "# Show vectorized words\n",
    "table = pd.DataFrame(vectorizer.vocabulary_.items(), columns=[\"Word\", \"Vector\"]) \n",
    "table"
   ]
  },
  {
   "cell_type": "code",
   "execution_count": 9,
   "metadata": {},
   "outputs": [
    {
     "data": {
      "text/plain": [
       "Pipeline(steps=[('vec', TfidfVectorizer()), ('cls', MultinomialNB())])"
      ]
     },
     "execution_count": 9,
     "metadata": {},
     "output_type": "execute_result"
    }
   ],
   "source": [
    "# TASK 3a - NB\n",
    "# Vectorize then use Naive Bayes Multinomial model to train.\n",
    "\n",
    "classifier = Pipeline( [ ( 'vec', TfidfVectorizer() ), ( 'cls', MultinomialNB(alpha=1.0) ) ] )\n",
    "classifier.fit(train_docs, train_labels)"
   ]
  },
  {
   "cell_type": "code",
   "execution_count": 10,
   "metadata": {},
   "outputs": [],
   "source": [
    "# TASK 3a - NB\n",
    "# Predict result of evaluation data set.\n",
    "\n",
    "prediction_result = classifier.predict(eval_docs)"
   ]
  },
  {
   "cell_type": "code",
   "execution_count": 11,
   "metadata": {
    "scrolled": true
   },
   "outputs": [
    {
     "data": {
      "text/html": [
       "<div>\n",
       "<style scoped>\n",
       "    .dataframe tbody tr th:only-of-type {\n",
       "        vertical-align: middle;\n",
       "    }\n",
       "\n",
       "    .dataframe tbody tr th {\n",
       "        vertical-align: top;\n",
       "    }\n",
       "\n",
       "    .dataframe thead th {\n",
       "        text-align: right;\n",
       "    }\n",
       "</style>\n",
       "<table border=\"1\" class=\"dataframe\">\n",
       "  <thead>\n",
       "    <tr style=\"text-align: right;\">\n",
       "      <th></th>\n",
       "      <th>Prediction</th>\n",
       "    </tr>\n",
       "  </thead>\n",
       "  <tbody>\n",
       "    <tr>\n",
       "      <th>0</th>\n",
       "      <td>neg</td>\n",
       "    </tr>\n",
       "    <tr>\n",
       "      <th>1</th>\n",
       "      <td>neg</td>\n",
       "    </tr>\n",
       "    <tr>\n",
       "      <th>2</th>\n",
       "      <td>pos</td>\n",
       "    </tr>\n",
       "    <tr>\n",
       "      <th>3</th>\n",
       "      <td>pos</td>\n",
       "    </tr>\n",
       "    <tr>\n",
       "      <th>4</th>\n",
       "      <td>pos</td>\n",
       "    </tr>\n",
       "    <tr>\n",
       "      <th>...</th>\n",
       "      <td>...</td>\n",
       "    </tr>\n",
       "    <tr>\n",
       "      <th>2378</th>\n",
       "      <td>pos</td>\n",
       "    </tr>\n",
       "    <tr>\n",
       "      <th>2379</th>\n",
       "      <td>pos</td>\n",
       "    </tr>\n",
       "    <tr>\n",
       "      <th>2380</th>\n",
       "      <td>pos</td>\n",
       "    </tr>\n",
       "    <tr>\n",
       "      <th>2381</th>\n",
       "      <td>pos</td>\n",
       "    </tr>\n",
       "    <tr>\n",
       "      <th>2382</th>\n",
       "      <td>neg</td>\n",
       "    </tr>\n",
       "  </tbody>\n",
       "</table>\n",
       "<p>2383 rows × 1 columns</p>\n",
       "</div>"
      ],
      "text/plain": [
       "     Prediction\n",
       "0           neg\n",
       "1           neg\n",
       "2           pos\n",
       "3           pos\n",
       "4           pos\n",
       "...         ...\n",
       "2378        pos\n",
       "2379        pos\n",
       "2380        pos\n",
       "2381        pos\n",
       "2382        neg\n",
       "\n",
       "[2383 rows x 1 columns]"
      ]
     },
     "execution_count": 11,
     "metadata": {},
     "output_type": "execute_result"
    }
   ],
   "source": [
    "# Task 3a - NB\n",
    "# The row number of the instance, followed by a comma, followed by the index of the predicted class of that instance.\n",
    "\n",
    "\n",
    "df = pd.DataFrame(prediction_result)\n",
    "df.columns = [\"Prediction\"]\n",
    "df"
   ]
  },
  {
   "cell_type": "code",
   "execution_count": 12,
   "metadata": {},
   "outputs": [
    {
     "data": {
      "image/png": "[encoded data removed]",
      "text/plain": [
       "<Figure size 576x720 with 2 Axes>"
      ]
     },
     "metadata": {
      "needs_background": "light"
     },
     "output_type": "display_data"
    }
   ],
   "source": [
    "# TASK 3a - NB\n",
    "# Confusion Matrix\n",
    "\n",
    "plot_confusion_matrix(classifier, eval_docs, eval_labels)\n",
    "\n",
    "\n",
    "# Saving plot to output file\n",
    "\n",
    "path = dataset_paths.get(\"NaiveBayes\")\n",
    "os.chdir(path)\n",
    "plt.title(\"Naive Bayes Confusion Matrix\",pad=40,fontweight=\"bold\")\n",
    "plt.savefig(\"NaiveBayes-ConfusionMatrix.pdf\")\n",
    "os.chdir(\"..\")\n",
    "\n",
    "\n",
    "plt.show() "
   ]
  },
  {
   "cell_type": "code",
   "execution_count": 13,
   "metadata": {},
   "outputs": [
    {
     "name": "stdout",
     "output_type": "stream",
     "text": [
      "              precision    recall  f1-score   support\n",
      "\n",
      "         neg       0.84      0.83      0.83      1203\n",
      "         pos       0.83      0.84      0.83      1180\n",
      "\n",
      "    accuracy                           0.83      2383\n",
      "   macro avg       0.83      0.83      0.83      2383\n",
      "weighted avg       0.83      0.83      0.83      2383\n",
      "\n"
     ]
    }
   ],
   "source": [
    "# TASK 3a - NB\n",
    "# The precision, recall, and f1-measure for each class\n",
    "\n",
    "report = classification_report(eval_labels, prediction_result)\n",
    "print(report)"
   ]
  },
  {
   "cell_type": "code",
   "execution_count": 14,
   "metadata": {
    "scrolled": true
   },
   "outputs": [
    {
     "name": "stdout",
     "output_type": "stream",
     "text": [
      "Prediction accuracy score is  83.4242551405791 %\n"
     ]
    }
   ],
   "source": [
    "# TASK 3a - NB\n",
    "# Accuracy score.\n",
    "\n",
    "accuracy = accuracy_score(eval_labels, prediction_result)*100\n",
    "print(\"Prediction accuracy score is \", accuracy , \"%\")\n",
    "\n",
    "# Printing output files\n",
    "\n",
    "print_accuracy_report(\"NaiveBayes\",report,accuracy,df)"
   ]
  },
  {
   "cell_type": "code",
   "execution_count": 15,
   "metadata": {
    "scrolled": true
   },
   "outputs": [
    {
     "name": "stdout",
     "output_type": "stream",
     "text": [
      "              precision    recall  f1-score   support\n",
      "\n",
      "         neg       1.00      1.00      1.00         2\n",
      "         pos       1.00      1.00      1.00         3\n",
      "\n",
      "    accuracy                           1.00         5\n",
      "   macro avg       1.00      1.00      1.00         5\n",
      "weighted avg       1.00      1.00      1.00         5\n",
      "\n"
     ]
    }
   ],
   "source": [
    "# Naive Bayes Sanity Check\n",
    "\n",
    "sanity_check_prediction_result = classifier.predict(['bad','good','great','worst','love'])\n",
    "print(classification_report(['neg','pos','pos','neg', 'pos'], sanity_check_prediction_result))"
   ]
  },
  {
   "cell_type": "code",
   "execution_count": 16,
   "metadata": {},
   "outputs": [
    {
     "name": "stdout",
     "output_type": "stream",
     "text": [
      "Prediction accuracy score is  100.0 %\n"
     ]
    }
   ],
   "source": [
    "# Naive Bayes Sanity Check\n",
    "# Prediction score based on sanity check evaluation labels.\n",
    "\n",
    "print(\"Prediction accuracy score is \", round(accuracy_score(['neg','pos','pos','neg', 'pos'], sanity_check_prediction_result), 2)*100 , \"%\")"
   ]
  },
  {
   "cell_type": "markdown",
   "metadata": {},
   "source": [
    "---\n",
    "# IV (b): Base Decision Tree Classifier"
   ]
  },
  {
   "cell_type": "code",
   "execution_count": 17,
   "metadata": {},
   "outputs": [
    {
     "data": {
      "text/plain": [
       "Pipeline(steps=[('vec', TfidfVectorizer()),\n",
       "                ('clf', DecisionTreeClassifier(criterion='entropy'))])"
      ]
     },
     "execution_count": 17,
     "metadata": {},
     "output_type": "execute_result"
    }
   ],
   "source": [
    "# TASK 3b - Base DT\n",
    "# Vectorize then use Base DT model to train.\n",
    "\n",
    "base_dt_classifier = Pipeline( [ ( 'vec', TfidfVectorizer() ), ( 'clf', DecisionTreeClassifier(criterion='entropy') ) ] )\n",
    "base_dt_classifier.fit(train_docs, train_labels)"
   ]
  },
  {
   "cell_type": "code",
   "execution_count": 18,
   "metadata": {},
   "outputs": [],
   "source": [
    "# TASK 3b - Base DT\n",
    "# Predict result of evaluation data set.\n",
    "\n",
    "base_dt_prediction_result = base_dt_classifier.predict(eval_docs)"
   ]
  },
  {
   "cell_type": "code",
   "execution_count": 19,
   "metadata": {
    "scrolled": false
   },
   "outputs": [
    {
     "data": {
      "text/html": [
       "<div>\n",
       "<style scoped>\n",
       "    .dataframe tbody tr th:only-of-type {\n",
       "        vertical-align: middle;\n",
       "    }\n",
       "\n",
       "    .dataframe tbody tr th {\n",
       "        vertical-align: top;\n",
       "    }\n",
       "\n",
       "    .dataframe thead th {\n",
       "        text-align: right;\n",
       "    }\n",
       "</style>\n",
       "<table border=\"1\" class=\"dataframe\">\n",
       "  <thead>\n",
       "    <tr style=\"text-align: right;\">\n",
       "      <th></th>\n",
       "      <th>0</th>\n",
       "    </tr>\n",
       "  </thead>\n",
       "  <tbody>\n",
       "    <tr>\n",
       "      <th>0</th>\n",
       "      <td>pos</td>\n",
       "    </tr>\n",
       "    <tr>\n",
       "      <th>1</th>\n",
       "      <td>neg</td>\n",
       "    </tr>\n",
       "    <tr>\n",
       "      <th>2</th>\n",
       "      <td>neg</td>\n",
       "    </tr>\n",
       "    <tr>\n",
       "      <th>3</th>\n",
       "      <td>pos</td>\n",
       "    </tr>\n",
       "    <tr>\n",
       "      <th>4</th>\n",
       "      <td>pos</td>\n",
       "    </tr>\n",
       "    <tr>\n",
       "      <th>...</th>\n",
       "      <td>...</td>\n",
       "    </tr>\n",
       "    <tr>\n",
       "      <th>2378</th>\n",
       "      <td>neg</td>\n",
       "    </tr>\n",
       "    <tr>\n",
       "      <th>2379</th>\n",
       "      <td>neg</td>\n",
       "    </tr>\n",
       "    <tr>\n",
       "      <th>2380</th>\n",
       "      <td>pos</td>\n",
       "    </tr>\n",
       "    <tr>\n",
       "      <th>2381</th>\n",
       "      <td>neg</td>\n",
       "    </tr>\n",
       "    <tr>\n",
       "      <th>2382</th>\n",
       "      <td>pos</td>\n",
       "    </tr>\n",
       "  </tbody>\n",
       "</table>\n",
       "<p>2383 rows × 1 columns</p>\n",
       "</div>"
      ],
      "text/plain": [
       "        0\n",
       "0     pos\n",
       "1     neg\n",
       "2     neg\n",
       "3     pos\n",
       "4     pos\n",
       "...   ...\n",
       "2378  neg\n",
       "2379  neg\n",
       "2380  pos\n",
       "2381  neg\n",
       "2382  pos\n",
       "\n",
       "[2383 rows x 1 columns]"
      ]
     },
     "execution_count": 19,
     "metadata": {},
     "output_type": "execute_result"
    }
   ],
   "source": [
    "# Task 3b - Base DT\n",
    "# The row number of the instance, followed by a comma, followed by the index of the predicted class of that instance.\n",
    "\n",
    "df = pd.DataFrame(base_dt_prediction_result)\n",
    "df"
   ]
  },
  {
   "cell_type": "code",
   "execution_count": 20,
   "metadata": {
    "scrolled": true
   },
   "outputs": [
    {
     "data": {
      "image/png": "[encoded data removed]",
      "text/plain": [
       "<Figure size 576x720 with 2 Axes>"
      ]
     },
     "metadata": {
      "needs_background": "light"
     },
     "output_type": "display_data"
    }
   ],
   "source": [
    "# TASK 3b - Base DT\n",
    "# Confusion Matrix\n",
    "\n",
    "plot_confusion_matrix(base_dt_classifier, eval_docs, eval_labels )  \n",
    "\n",
    "\n",
    "# Saving plot to output file\n",
    "\n",
    "path = dataset_paths.get(\"BaseDT\")\n",
    "os.chdir(path)\n",
    "plt.title(\"Base Decision Tree Confusion Matrix\",pad=40,fontweight=\"bold\")\n",
    "plt.savefig(\"BaseDT-ConfusionMatrix.pdf\")\n",
    "os.chdir(\"..\")\n",
    "\n",
    "\n",
    "plt.show() "
   ]
  },
  {
   "cell_type": "code",
   "execution_count": 21,
   "metadata": {
    "scrolled": true
   },
   "outputs": [
    {
     "name": "stdout",
     "output_type": "stream",
     "text": [
      "              precision    recall  f1-score   support\n",
      "\n",
      "         neg       0.72      0.72      0.72      1203\n",
      "         pos       0.72      0.72      0.72      1180\n",
      "\n",
      "    accuracy                           0.72      2383\n",
      "   macro avg       0.72      0.72      0.72      2383\n",
      "weighted avg       0.72      0.72      0.72      2383\n",
      "\n"
     ]
    }
   ],
   "source": [
    "# TASK 3b - Base DT\n",
    "# The precision, recall, and f1-measure for each class\n",
    "\n",
    "report = classification_report(eval_labels, base_dt_prediction_result)\n",
    "print(report)"
   ]
  },
  {
   "cell_type": "code",
   "execution_count": 22,
   "metadata": {},
   "outputs": [
    {
     "name": "stdout",
     "output_type": "stream",
     "text": [
      "Prediction accuracy score is  71.96810742761225 %\n"
     ]
    }
   ],
   "source": [
    "# TASK 3b - Base DT\n",
    "# Accuracy score.\n",
    "\n",
    "accuracy = accuracy_score(eval_labels, base_dt_prediction_result)*100\n",
    "print(\"Prediction accuracy score is \", accuracy , \"%\")\n",
    "\n",
    "# Printing output file\n",
    "\n",
    "print_accuracy_report(\"BaseDT\",report,accuracy,df)"
   ]
  },
  {
   "cell_type": "code",
   "execution_count": 23,
   "metadata": {
    "scrolled": false
   },
   "outputs": [
    {
     "name": "stdout",
     "output_type": "stream",
     "text": [
      "              precision    recall  f1-score   support\n",
      "\n",
      "         neg       1.00      1.00      1.00         2\n",
      "         pos       1.00      1.00      1.00         3\n",
      "\n",
      "    accuracy                           1.00         5\n",
      "   macro avg       1.00      1.00      1.00         5\n",
      "weighted avg       1.00      1.00      1.00         5\n",
      "\n"
     ]
    }
   ],
   "source": [
    "# Base DT Sanity Check\n",
    "\n",
    "base_dt_sanity_check_prediction_result = base_dt_classifier.predict(['bad','good','great','worst','love'])\n",
    "print(classification_report(['neg','pos','pos','neg', 'pos'], base_dt_sanity_check_prediction_result))"
   ]
  },
  {
   "cell_type": "code",
   "execution_count": 24,
   "metadata": {},
   "outputs": [
    {
     "name": "stdout",
     "output_type": "stream",
     "text": [
      "Prediction accuracy score is  100.0 %\n"
     ]
    }
   ],
   "source": [
    "# Base DT Sanity Check\n",
    "# Prediction score based on sanity check evaluation labels.\n",
    "\n",
    "print(\"Prediction accuracy score is \", round(accuracy_score(['neg','pos','pos','neg', 'pos'], base_dt_sanity_check_prediction_result), 2)*100 , \"%\")"
   ]
  },
  {
   "cell_type": "markdown",
   "metadata": {},
   "source": [
    "---\n",
    "# IV (c): Best Decision Tree Classifier"
   ]
  },
  {
   "cell_type": "code",
   "execution_count": 25,
   "metadata": {},
   "outputs": [
    {
     "name": "stdout",
     "output_type": "stream",
     "text": [
      "Fitting 10 folds for each of 32 candidates, totalling 320 fits\n"
     ]
    },
    {
     "name": "stderr",
     "output_type": "stream",
     "text": [
      "[Parallel(n_jobs=-1)]: Using backend LokyBackend with 12 concurrent workers.\n",
      "[Parallel(n_jobs=-1)]: Done  26 tasks      | elapsed:   12.5s\n",
      "[Parallel(n_jobs=-1)]: Done 176 tasks      | elapsed:  1.1min\n",
      "[Parallel(n_jobs=-1)]: Done 320 out of 320 | elapsed:  1.9min finished\n"
     ]
    },
    {
     "data": {
      "text/plain": [
       "GridSearchCV(cv=10, estimator=DecisionTreeClassifier(), n_jobs=-1,\n",
       "             param_grid={'criterion': ['gini', 'entropy'],\n",
       "                         'min_samples_split': range(7, 15),\n",
       "                         'splitter': ['best', 'random']},\n",
       "             verbose=1)"
      ]
     },
     "execution_count": 25,
     "metadata": {},
     "output_type": "execute_result"
    }
   ],
   "source": [
    "DT = DecisionTreeClassifier()\n",
    "parameters = {\n",
    "    \"criterion\":[\"gini\",\"entropy\"],\n",
    "    \"min_samples_split\":range(7,15),\n",
    "    \"splitter\":[\"best\",\"random\"]\n",
    "}\n",
    "\n",
    "vectorizer = TfidfVectorizer()\n",
    "vectorizer.fit(train_docs)\n",
    "vectorized_docs = vectorizer.transform(train_docs)\n",
    "\n",
    "grid = GridSearchCV(DT,param_grid=parameters,cv=10,verbose=1,n_jobs=-1)\n",
    "grid.fit(vectorized_docs,train_labels)"
   ]
  },
  {
   "cell_type": "code",
   "execution_count": 26,
   "metadata": {},
   "outputs": [
    {
     "data": {
      "text/plain": [
       "{'criterion': 'entropy', 'min_samples_split': 10, 'splitter': 'random'}"
      ]
     },
     "execution_count": 26,
     "metadata": {},
     "output_type": "execute_result"
    }
   ],
   "source": [
    "grid.best_params_"
   ]
  },
  {
   "cell_type": "code",
   "execution_count": 27,
   "metadata": {},
   "outputs": [
    {
     "data": {
      "text/plain": [
       "Pipeline(steps=[('vec', TfidfVectorizer()),\n",
       "                ('clf',\n",
       "                 DecisionTreeClassifier(criterion='entropy',\n",
       "                                        min_samples_split=11,\n",
       "                                        splitter='random'))])"
      ]
     },
     "execution_count": 27,
     "metadata": {},
     "output_type": "execute_result"
    }
   ],
   "source": [
    "# TASK 3 - Best DT\n",
    "# Vectorize then use Base DT model to train.\n",
    "\n",
    "base_dt_classifier = Pipeline( [ ( 'vec', TfidfVectorizer() ), ( 'clf', DecisionTreeClassifier(criterion=\"entropy\",min_samples_split=11,splitter=\"random\") ) ] )\n",
    "\n",
    "base_dt_classifier.fit(train_docs, train_labels)"
   ]
  },
  {
   "cell_type": "code",
   "execution_count": 28,
   "metadata": {},
   "outputs": [],
   "source": [
    "# TASK 3c - Best DT\n",
    "# Predict result of evaluation data set.\n",
    "\n",
    "base_dt_prediction_result = base_dt_classifier.predict(eval_docs)"
   ]
  },
  {
   "cell_type": "code",
   "execution_count": 29,
   "metadata": {
    "scrolled": true
   },
   "outputs": [
    {
     "data": {
      "text/html": [
       "<div>\n",
       "<style scoped>\n",
       "    .dataframe tbody tr th:only-of-type {\n",
       "        vertical-align: middle;\n",
       "    }\n",
       "\n",
       "    .dataframe tbody tr th {\n",
       "        vertical-align: top;\n",
       "    }\n",
       "\n",
       "    .dataframe thead th {\n",
       "        text-align: right;\n",
       "    }\n",
       "</style>\n",
       "<table border=\"1\" class=\"dataframe\">\n",
       "  <thead>\n",
       "    <tr style=\"text-align: right;\">\n",
       "      <th></th>\n",
       "      <th>Prediction</th>\n",
       "    </tr>\n",
       "  </thead>\n",
       "  <tbody>\n",
       "    <tr>\n",
       "      <th>0</th>\n",
       "      <td>pos</td>\n",
       "    </tr>\n",
       "    <tr>\n",
       "      <th>1</th>\n",
       "      <td>neg</td>\n",
       "    </tr>\n",
       "    <tr>\n",
       "      <th>2</th>\n",
       "      <td>pos</td>\n",
       "    </tr>\n",
       "    <tr>\n",
       "      <th>3</th>\n",
       "      <td>pos</td>\n",
       "    </tr>\n",
       "    <tr>\n",
       "      <th>4</th>\n",
       "      <td>pos</td>\n",
       "    </tr>\n",
       "    <tr>\n",
       "      <th>...</th>\n",
       "      <td>...</td>\n",
       "    </tr>\n",
       "    <tr>\n",
       "      <th>2378</th>\n",
       "      <td>neg</td>\n",
       "    </tr>\n",
       "    <tr>\n",
       "      <th>2379</th>\n",
       "      <td>neg</td>\n",
       "    </tr>\n",
       "    <tr>\n",
       "      <th>2380</th>\n",
       "      <td>neg</td>\n",
       "    </tr>\n",
       "    <tr>\n",
       "      <th>2381</th>\n",
       "      <td>pos</td>\n",
       "    </tr>\n",
       "    <tr>\n",
       "      <th>2382</th>\n",
       "      <td>pos</td>\n",
       "    </tr>\n",
       "  </tbody>\n",
       "</table>\n",
       "<p>2383 rows × 1 columns</p>\n",
       "</div>"
      ],
      "text/plain": [
       "     Prediction\n",
       "0           pos\n",
       "1           neg\n",
       "2           pos\n",
       "3           pos\n",
       "4           pos\n",
       "...         ...\n",
       "2378        neg\n",
       "2379        neg\n",
       "2380        neg\n",
       "2381        pos\n",
       "2382        pos\n",
       "\n",
       "[2383 rows x 1 columns]"
      ]
     },
     "execution_count": 29,
     "metadata": {},
     "output_type": "execute_result"
    }
   ],
   "source": [
    "# Task 3c - Best DT\n",
    "# The row number of the instance, followed by a comma, followed by the index of the predicted class of that instance.\n",
    "\n",
    "\n",
    "df = pd.DataFrame(base_dt_prediction_result)\n",
    "df.columns = [\"Prediction\"]\n",
    "df"
   ]
  },
  {
   "cell_type": "code",
   "execution_count": 30,
   "metadata": {},
   "outputs": [
    {
     "data": {
      "image/png": "[encoded data removed]",
      "text/plain": [
       "<Figure size 576x720 with 2 Axes>"
      ]
     },
     "metadata": {
      "needs_background": "light"
     },
     "output_type": "display_data"
    }
   ],
   "source": [
    "# TASK 3c - Best DT\n",
    "# Confusion Matrix\n",
    "\n",
    "plot_confusion_matrix(base_dt_classifier, eval_docs, eval_labels )  \n",
    "\n",
    "\n",
    "# Saving plot to output file\n",
    "\n",
    "path = dataset_paths.get(\"BestDT\")\n",
    "os.chdir(path)\n",
    "plt.title(\"Best Decision Tree Confusion Matrix\",pad=40,fontweight=\"bold\")\n",
    "plt.savefig(\"BestDT-ConfusionMatrix.pdf\")\n",
    "os.chdir(\"..\")\n",
    "\n",
    "\n",
    "plt.show() "
   ]
  },
  {
   "cell_type": "code",
   "execution_count": 31,
   "metadata": {},
   "outputs": [
    {
     "name": "stdout",
     "output_type": "stream",
     "text": [
      "              precision    recall  f1-score   support\n",
      "\n",
      "         neg       0.74      0.71      0.72      1203\n",
      "         pos       0.71      0.74      0.73      1180\n",
      "\n",
      "    accuracy                           0.73      2383\n",
      "   macro avg       0.73      0.73      0.73      2383\n",
      "weighted avg       0.73      0.73      0.73      2383\n",
      "\n"
     ]
    }
   ],
   "source": [
    "# TASK 3c - Best DT\n",
    "# The precision, recall, and f1-measure for each class\n",
    "\n",
    "report = classification_report(eval_labels, base_dt_prediction_result)\n",
    "print(report)"
   ]
  },
  {
   "cell_type": "code",
   "execution_count": 32,
   "metadata": {},
   "outputs": [
    {
     "name": "stdout",
     "output_type": "stream",
     "text": [
      "Prediction accuracy score is  72.51363827108686 %\n"
     ]
    }
   ],
   "source": [
    "# TASK 3c - Best DT\n",
    "# Accuracy score.\n",
    "\n",
    "accuracy = accuracy_score(eval_labels, base_dt_prediction_result)*100\n",
    "print(\"Prediction accuracy score is \", accuracy , \"%\")\n",
    "\n",
    "# Printing to output file\n",
    "\n",
    "print_accuracy_report(\"BestDT\",report,accuracy,df)"
   ]
  },
  {
   "cell_type": "code",
   "execution_count": 33,
   "metadata": {},
   "outputs": [
    {
     "name": "stdout",
     "output_type": "stream",
     "text": [
      "              precision    recall  f1-score   support\n",
      "\n",
      "         neg       1.00      1.00      1.00         2\n",
      "         pos       1.00      1.00      1.00         3\n",
      "\n",
      "    accuracy                           1.00         5\n",
      "   macro avg       1.00      1.00      1.00         5\n",
      "weighted avg       1.00      1.00      1.00         5\n",
      "\n"
     ]
    }
   ],
   "source": [
    "# Best DT Sanity Check\n",
    "\n",
    "base_dt_sanity_check_prediction_result = base_dt_classifier.predict(['bad','good','great','worst','love'])\n",
    "print(classification_report(['neg','pos','pos','neg', 'pos'], base_dt_sanity_check_prediction_result))"
   ]
  },
  {
   "cell_type": "code",
   "execution_count": null,
   "metadata": {},
   "outputs": [],
   "source": [
    "# Best DT Sanity Check\n",
    "# Prediction score based on sanity check evaluation labels.\n",
    "\n",
    "print(\"Prediction accuracy score is \", round(accuracy_score(['neg','pos','pos','neg', 'pos'], base_dt_sanity_check_prediction_result), 2)*100 , \"%\")"
   ]
  },
  {
   "cell_type": "markdown",
   "metadata": {},
   "source": [
    "# Task 4: Error Analysis\n",
    "### printing some misclassified documents with the correct lable - predection"
   ]
  },
  {
   "cell_type": "code",
   "execution_count": null,
   "metadata": {},
   "outputs": [],
   "source": [
    "#printing the misclassified documents:\n",
    "data = {'real labels':eval_labels,'predictions':base_dt_prediction_result,'documents':eval_docs}\n",
    "df = pd.DataFrame(data)\n",
    "print(df[df['real labels']!=df['predictions']][:15].values)"
   ]
  },
  {
   "cell_type": "markdown",
   "metadata": {},
   "source": [
    "# Explanation:\n",
    "as we can see in the few examples, there are several reasons to misclassify a document:\n",
    "\n",
    "- The use of so neutral language, spelling mistakes and the use of indirect wording: such as in this example: “nt aware swords existed noteworthy enough grace pages encyclopedia european seems much left ignoring eastern blades”\n",
    "- data has too much noise: some reviewers were talking about previous experience or the backstory of the product ( why they need it) an example: “normally wouldnt write review numerous experiences camera thought would share sister first bought camera amazed user …”.\n",
    "- Some reviews also describe what they liked and didn’t like about the product which can cause misclassifying the review example :”always fan star wars saga never really read novels first sw novel must say want sith finished novel last night…”"
   ]
  },
  {
   "cell_type": "code",
   "execution_count": null,
   "metadata": {},
   "outputs": [],
   "source": []
  }
 ],
 "metadata": {
  "kernelspec": {
   "display_name": "Python 3",
   "language": "python",
   "name": "python3"
  },
  "language_info": {
   "codemirror_mode": {
    "name": "ipython",
    "version": 3
   },
   "file_extension": ".py",
   "mimetype": "text/x-python",
   "name": "python",
   "nbconvert_exporter": "python",
   "pygments_lexer": "ipython3",
   "version": "3.7.4"
  }
 },
 "nbformat": 4,
 "nbformat_minor": 4
}
